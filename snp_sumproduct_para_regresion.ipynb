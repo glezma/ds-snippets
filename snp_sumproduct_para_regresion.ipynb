{
 "cells": [
  {
   "cell_type": "code",
   "execution_count": 1,
   "metadata": {},
   "outputs": [],
   "source": [
    "import numpy as np\n",
    "import pandas as pd"
   ]
  },
  {
   "cell_type": "markdown",
   "metadata": {},
   "source": [
    "# Create Data"
   ]
  },
  {
   "cell_type": "code",
   "execution_count": 162,
   "metadata": {},
   "outputs": [
    {
     "output_type": "execute_result",
     "data": {
      "text/plain": "      T  score  var1  var2  var3  var4  var5\n0  12.0  411.0   3.0   4.4   5.0  10.0  27.0\n1  14.0  430.0   4.0   6.0   5.0  10.0  20.0\n2  12.0  411.0   3.1   4.0   9.0   5.0  10.0\n3  14.0  413.0   4.1   4.4   7.0   5.0  11.0",
      "text/html": "<div>\n<style scoped>\n    .dataframe tbody tr th:only-of-type {\n        vertical-align: middle;\n    }\n\n    .dataframe tbody tr th {\n        vertical-align: top;\n    }\n\n    .dataframe thead th {\n        text-align: right;\n    }\n</style>\n<table border=\"1\" class=\"dataframe\">\n  <thead>\n    <tr style=\"text-align: right;\">\n      <th></th>\n      <th>T</th>\n      <th>score</th>\n      <th>var1</th>\n      <th>var2</th>\n      <th>var3</th>\n      <th>var4</th>\n      <th>var5</th>\n    </tr>\n  </thead>\n  <tbody>\n    <tr>\n      <th>0</th>\n      <td>12.0</td>\n      <td>411.0</td>\n      <td>3.0</td>\n      <td>4.4</td>\n      <td>5.0</td>\n      <td>10.0</td>\n      <td>27.0</td>\n    </tr>\n    <tr>\n      <th>1</th>\n      <td>14.0</td>\n      <td>430.0</td>\n      <td>4.0</td>\n      <td>6.0</td>\n      <td>5.0</td>\n      <td>10.0</td>\n      <td>20.0</td>\n    </tr>\n    <tr>\n      <th>2</th>\n      <td>12.0</td>\n      <td>411.0</td>\n      <td>3.1</td>\n      <td>4.0</td>\n      <td>9.0</td>\n      <td>5.0</td>\n      <td>10.0</td>\n    </tr>\n    <tr>\n      <th>3</th>\n      <td>14.0</td>\n      <td>413.0</td>\n      <td>4.1</td>\n      <td>4.4</td>\n      <td>7.0</td>\n      <td>5.0</td>\n      <td>11.0</td>\n    </tr>\n  </tbody>\n</table>\n</div>"
     },
     "metadata": {},
     "execution_count": 162
    }
   ],
   "source": [
    "data = np.array([[12, 411, 3, 4.4, 5, 10,27 ],\n",
    "            [14, 430, 4, 6, 5, 10,20 ],\n",
    "            [12, 411, 3.1, 4, 9, 5,10 ],\n",
    "            [14, 413, 4.1, 4.4, 7, 5,11 ]])\n",
    "total_columns = [ 'T','score', 'var1', 'var2','var3', 'var4','var5']\n",
    "df = pd.DataFrame(data=data, columns=total_columns)\n",
    "df"
   ]
  },
  {
   "cell_type": "code",
   "execution_count": 119,
   "metadata": {},
   "outputs": [
    {
     "output_type": "execute_result",
     "data": {
      "text/plain": "   var1  var3  var5\n0   0.1   0.2   0.3",
      "text/html": "<div>\n<style scoped>\n    .dataframe tbody tr th:only-of-type {\n        vertical-align: middle;\n    }\n\n    .dataframe tbody tr th {\n        vertical-align: top;\n    }\n\n    .dataframe thead th {\n        text-align: right;\n    }\n</style>\n<table border=\"1\" class=\"dataframe\">\n  <thead>\n    <tr style=\"text-align: right;\">\n      <th></th>\n      <th>var1</th>\n      <th>var3</th>\n      <th>var5</th>\n    </tr>\n  </thead>\n  <tbody>\n    <tr>\n      <th>0</th>\n      <td>0.1</td>\n      <td>0.2</td>\n      <td>0.3</td>\n    </tr>\n  </tbody>\n</table>\n</div>"
     },
     "metadata": {},
     "execution_count": 119
    }
   ],
   "source": [
    "data = np.array([[ 0.1, 0.2,  0.3 ]])\n",
    "columns = [ 'var1', 'var3','var5']\n",
    "df_coefs12 = pd.DataFrame(data=data, columns=columns)\n",
    "df_coefs12"
   ]
  },
  {
   "cell_type": "code",
   "execution_count": 201,
   "metadata": {},
   "outputs": [
    {
     "output_type": "execute_result",
     "data": {
      "text/plain": "   var2  var4  var5\n0   0.4   0.8   1.0",
      "text/html": "<div>\n<style scoped>\n    .dataframe tbody tr th:only-of-type {\n        vertical-align: middle;\n    }\n\n    .dataframe tbody tr th {\n        vertical-align: top;\n    }\n\n    .dataframe thead th {\n        text-align: right;\n    }\n</style>\n<table border=\"1\" class=\"dataframe\">\n  <thead>\n    <tr style=\"text-align: right;\">\n      <th></th>\n      <th>var2</th>\n      <th>var4</th>\n      <th>var5</th>\n    </tr>\n  </thead>\n  <tbody>\n    <tr>\n      <th>0</th>\n      <td>0.4</td>\n      <td>0.8</td>\n      <td>1.0</td>\n    </tr>\n  </tbody>\n</table>\n</div>"
     },
     "metadata": {},
     "execution_count": 201
    }
   ],
   "source": [
    "data = np.array([[ 0.4, 0.8,  1 ]])\n",
    "columns = [ 'var2', 'var4','var5']\n",
    "df_coefs14 = pd.DataFrame(data=data, columns=columns)\n",
    "df_coefs14"
   ]
  },
  {
   "cell_type": "code",
   "execution_count": 185,
   "metadata": {},
   "outputs": [],
   "source": [
    "def dot_product(x,columns,coefs='all_coefs'):\n",
    "    \"\"\"Computes X*b for each element in a dataframe\n",
    "    \"\"\"\n",
    "    X = x[columns].values.reshape(-1,1)  # one row of variables is taken\n",
    "    beta = x[coefs].reshape(-1,1) # complete coefficients are assigned to beta\n",
    "    np.dot(beta.T,X) # dot product is computed\n",
    "    return  np.dot(beta.T,X)[0][0]\n",
    "\n",
    "def get_np_coefs(df_coefs,df):\n",
    "    \"\"\"Completes variable names in a pandas dataframe. Returns a dataframe with coefficients\n",
    "\n",
    "    Arguments:\n",
    "    df_coefs -- a pandas dataframe containing only one row with model coefficients. (df_coefs.columns is a subset of df.columns)\n",
    "    df -- a pandas dataframe from which we take the df.columns values as template to complete coefficients\n",
    "\n",
    "    Example: \n",
    "    data = np.array([[12, 411, 3, 4.4, 5, 10,27 ],\n",
    "            [14, 430, 4, 6, 5, 10,20 ]])\n",
    "    columns = [ 'x','y', 'var1', 'var2','var3', 'var4','var5']\n",
    "    df = pd.DataFrame(data=data, columns=columns)\n",
    "\n",
    "    data = np.array([[ 0.1, 0.2,  0.3 ]])\n",
    "    columns = [ 'var1', 'var3','var5']\n",
    "    df_coefs = pd.DataFrame(data=data, columns=columns)\n",
    "\n",
    "    completed_coefs = get_np_coefs(df_coefs14,df)\n",
    "\n",
    "    Which returns:\n",
    "\n",
    "        x\ty\tvar1\tvar2\tvar3\tvar4\tvar5\tall_coefs\n",
    "    0\t0.0\t0.0\t0.0\t    0.4\t    0.0\t    0.8\t    1.0\t    [[0.0, 0.0, 0.0, 0.4, 0.0, 0.8, 1.0]]\n",
    "\n",
    "    \"\"\"\n",
    "    coef_list = [df_coefs.loc[0,var_name] if (var_name in df_coefs.columns) else 0 for var_name in df.columns]\n",
    "    coef_list = np.array(coef_list).reshape(1,-1)\n",
    "    df_coef =pd.DataFrame(data=coef_list,columns=df.columns)\n",
    "    df_coef['all_coefs'] = [coef_list]\n",
    "    return df_coef"
   ]
  },
  {
   "cell_type": "code",
   "execution_count": 186,
   "metadata": {},
   "outputs": [
    {
     "output_type": "execute_result",
     "data": {
      "text/plain": "     T  score  var1  var2  var3  var4  var5  \\\n0  0.0    0.0   0.1   0.0   0.2   0.0   0.3   \n1  0.0    0.0   0.0   0.4   0.0   0.8   1.0   \n\n                               all_coefs  joinVar  \n0  [[0.0, 0.0, 0.1, 0.0, 0.2, 0.0, 0.3]]       12  \n1  [[0.0, 0.0, 0.0, 0.4, 0.0, 0.8, 1.0]]       14  ",
      "text/html": "<div>\n<style scoped>\n    .dataframe tbody tr th:only-of-type {\n        vertical-align: middle;\n    }\n\n    .dataframe tbody tr th {\n        vertical-align: top;\n    }\n\n    .dataframe thead th {\n        text-align: right;\n    }\n</style>\n<table border=\"1\" class=\"dataframe\">\n  <thead>\n    <tr style=\"text-align: right;\">\n      <th></th>\n      <th>T</th>\n      <th>score</th>\n      <th>var1</th>\n      <th>var2</th>\n      <th>var3</th>\n      <th>var4</th>\n      <th>var5</th>\n      <th>all_coefs</th>\n      <th>joinVar</th>\n    </tr>\n  </thead>\n  <tbody>\n    <tr>\n      <th>0</th>\n      <td>0.0</td>\n      <td>0.0</td>\n      <td>0.1</td>\n      <td>0.0</td>\n      <td>0.2</td>\n      <td>0.0</td>\n      <td>0.3</td>\n      <td>[[0.0, 0.0, 0.1, 0.0, 0.2, 0.0, 0.3]]</td>\n      <td>12</td>\n    </tr>\n    <tr>\n      <th>1</th>\n      <td>0.0</td>\n      <td>0.0</td>\n      <td>0.0</td>\n      <td>0.4</td>\n      <td>0.0</td>\n      <td>0.8</td>\n      <td>1.0</td>\n      <td>[[0.0, 0.0, 0.0, 0.4, 0.0, 0.8, 1.0]]</td>\n      <td>14</td>\n    </tr>\n  </tbody>\n</table>\n</div>"
     },
     "metadata": {},
     "execution_count": 186
    }
   ],
   "source": [
    "# Coefficients for T=12 and T=14\n",
    "beta12 = get_np_coefs(df_coefs12,df)\n",
    "beta12['joinVar'] =12\n",
    "beta14 = get_np_coefs(df_coefs14,df)\n",
    "beta14['joinVar'] =14\n",
    "df_concat = pd.concat([beta12,beta14],ignore_index=True)\n",
    "df_concat"
   ]
  },
  {
   "cell_type": "code",
   "execution_count": 187,
   "metadata": {},
   "outputs": [
    {
     "output_type": "execute_result",
     "data": {
      "text/plain": "      T  score  var1  var2  var3  var4  var5  \\\n0  12.0  411.0   3.0   4.4   5.0  10.0  27.0   \n1  12.0  411.0   3.1   4.0   9.0   5.0  10.0   \n2  14.0  430.0   4.0   6.0   5.0  10.0  20.0   \n3  14.0  413.0   4.1   4.4   7.0   5.0  11.0   \n\n                               all_coefs  joinVar  \n0  [[0.0, 0.0, 0.1, 0.0, 0.2, 0.0, 0.3]]       12  \n1  [[0.0, 0.0, 0.1, 0.0, 0.2, 0.0, 0.3]]       12  \n2  [[0.0, 0.0, 0.0, 0.4, 0.0, 0.8, 1.0]]       14  \n3  [[0.0, 0.0, 0.0, 0.4, 0.0, 0.8, 1.0]]       14  ",
      "text/html": "<div>\n<style scoped>\n    .dataframe tbody tr th:only-of-type {\n        vertical-align: middle;\n    }\n\n    .dataframe tbody tr th {\n        vertical-align: top;\n    }\n\n    .dataframe thead th {\n        text-align: right;\n    }\n</style>\n<table border=\"1\" class=\"dataframe\">\n  <thead>\n    <tr style=\"text-align: right;\">\n      <th></th>\n      <th>T</th>\n      <th>score</th>\n      <th>var1</th>\n      <th>var2</th>\n      <th>var3</th>\n      <th>var4</th>\n      <th>var5</th>\n      <th>all_coefs</th>\n      <th>joinVar</th>\n    </tr>\n  </thead>\n  <tbody>\n    <tr>\n      <th>0</th>\n      <td>12.0</td>\n      <td>411.0</td>\n      <td>3.0</td>\n      <td>4.4</td>\n      <td>5.0</td>\n      <td>10.0</td>\n      <td>27.0</td>\n      <td>[[0.0, 0.0, 0.1, 0.0, 0.2, 0.0, 0.3]]</td>\n      <td>12</td>\n    </tr>\n    <tr>\n      <th>1</th>\n      <td>12.0</td>\n      <td>411.0</td>\n      <td>3.1</td>\n      <td>4.0</td>\n      <td>9.0</td>\n      <td>5.0</td>\n      <td>10.0</td>\n      <td>[[0.0, 0.0, 0.1, 0.0, 0.2, 0.0, 0.3]]</td>\n      <td>12</td>\n    </tr>\n    <tr>\n      <th>2</th>\n      <td>14.0</td>\n      <td>430.0</td>\n      <td>4.0</td>\n      <td>6.0</td>\n      <td>5.0</td>\n      <td>10.0</td>\n      <td>20.0</td>\n      <td>[[0.0, 0.0, 0.0, 0.4, 0.0, 0.8, 1.0]]</td>\n      <td>14</td>\n    </tr>\n    <tr>\n      <th>3</th>\n      <td>14.0</td>\n      <td>413.0</td>\n      <td>4.1</td>\n      <td>4.4</td>\n      <td>7.0</td>\n      <td>5.0</td>\n      <td>11.0</td>\n      <td>[[0.0, 0.0, 0.0, 0.4, 0.0, 0.8, 1.0]]</td>\n      <td>14</td>\n    </tr>\n  </tbody>\n</table>\n</div>"
     },
     "metadata": {},
     "execution_count": 187
    }
   ],
   "source": [
    "# Joining coeff dataframe with complete df\n",
    "df_complete = pd.merge(df,df_concat[['all_coefs','joinVar']],left_on='T',right_on='joinVar')\n",
    "df_complete"
   ]
  },
  {
   "cell_type": "code",
   "execution_count": 200,
   "metadata": {},
   "outputs": [
    {
     "output_type": "execute_result",
     "data": {
      "text/plain": "      T  score  var1  var2  var3  var4  var5  \\\n0  12.0  411.0   3.0   4.4   5.0  10.0  27.0   \n1  12.0  411.0   3.1   4.0   9.0   5.0  10.0   \n2  14.0  430.0   4.0   6.0   5.0  10.0  20.0   \n3  14.0  413.0   4.1   4.4   7.0   5.0  11.0   \n\n                               all_coefs  joinVar   res1  \n0  [[0.0, 0.0, 0.1, 0.0, 0.2, 0.0, 0.3]]       12   9.40  \n1  [[0.0, 0.0, 0.1, 0.0, 0.2, 0.0, 0.3]]       12   5.11  \n2  [[0.0, 0.0, 0.0, 0.4, 0.0, 0.8, 1.0]]       14  30.40  \n3  [[0.0, 0.0, 0.0, 0.4, 0.0, 0.8, 1.0]]       14  16.76  ",
      "text/html": "<div>\n<style scoped>\n    .dataframe tbody tr th:only-of-type {\n        vertical-align: middle;\n    }\n\n    .dataframe tbody tr th {\n        vertical-align: top;\n    }\n\n    .dataframe thead th {\n        text-align: right;\n    }\n</style>\n<table border=\"1\" class=\"dataframe\">\n  <thead>\n    <tr style=\"text-align: right;\">\n      <th></th>\n      <th>T</th>\n      <th>score</th>\n      <th>var1</th>\n      <th>var2</th>\n      <th>var3</th>\n      <th>var4</th>\n      <th>var5</th>\n      <th>all_coefs</th>\n      <th>joinVar</th>\n      <th>res1</th>\n    </tr>\n  </thead>\n  <tbody>\n    <tr>\n      <th>0</th>\n      <td>12.0</td>\n      <td>411.0</td>\n      <td>3.0</td>\n      <td>4.4</td>\n      <td>5.0</td>\n      <td>10.0</td>\n      <td>27.0</td>\n      <td>[[0.0, 0.0, 0.1, 0.0, 0.2, 0.0, 0.3]]</td>\n      <td>12</td>\n      <td>9.40</td>\n    </tr>\n    <tr>\n      <th>1</th>\n      <td>12.0</td>\n      <td>411.0</td>\n      <td>3.1</td>\n      <td>4.0</td>\n      <td>9.0</td>\n      <td>5.0</td>\n      <td>10.0</td>\n      <td>[[0.0, 0.0, 0.1, 0.0, 0.2, 0.0, 0.3]]</td>\n      <td>12</td>\n      <td>5.11</td>\n    </tr>\n    <tr>\n      <th>2</th>\n      <td>14.0</td>\n      <td>430.0</td>\n      <td>4.0</td>\n      <td>6.0</td>\n      <td>5.0</td>\n      <td>10.0</td>\n      <td>20.0</td>\n      <td>[[0.0, 0.0, 0.0, 0.4, 0.0, 0.8, 1.0]]</td>\n      <td>14</td>\n      <td>30.40</td>\n    </tr>\n    <tr>\n      <th>3</th>\n      <td>14.0</td>\n      <td>413.0</td>\n      <td>4.1</td>\n      <td>4.4</td>\n      <td>7.0</td>\n      <td>5.0</td>\n      <td>11.0</td>\n      <td>[[0.0, 0.0, 0.0, 0.4, 0.0, 0.8, 1.0]]</td>\n      <td>14</td>\n      <td>16.76</td>\n    </tr>\n  </tbody>\n</table>\n</div>"
     },
     "metadata": {},
     "execution_count": 200
    }
   ],
   "source": [
    "# compute dot product\n",
    "df_complete['res1'] = df_complete.apply(lambda x : dot_product(x,total_columns),axis=1)\n",
    "df_complete"
   ]
  },
  {
   "cell_type": "code",
   "execution_count": null,
   "metadata": {},
   "outputs": [],
   "source": []
  }
 ],
 "metadata": {
  "kernelspec": {
   "display_name": "Python 3.7.4 64-bit ('venv-ds': virtualenv)",
   "language": "python",
   "name": "python37464bitvenvdsvirtualenvc1764cfcc1b641c5b3de68a9165bfdfe"
  },
  "language_info": {
   "codemirror_mode": {
    "name": "ipython",
    "version": 3
   },
   "file_extension": ".py",
   "mimetype": "text/x-python",
   "name": "python",
   "nbconvert_exporter": "python",
   "pygments_lexer": "ipython3",
   "version": "3.7.4-final"
  }
 },
 "nbformat": 4,
 "nbformat_minor": 4
}